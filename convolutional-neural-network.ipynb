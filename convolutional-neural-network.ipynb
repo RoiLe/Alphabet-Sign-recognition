{
 "cells": [
  {
   "cell_type": "markdown",
   "metadata": {},
   "source": [
    "**Importing the libraries**"
   ]
  },
  {
   "cell_type": "code",
   "execution_count": 1,
   "metadata": {},
   "outputs": [
    {
     "data": {
      "text/plain": [
       "'2.9.1'"
      ]
     },
     "execution_count": 1,
     "metadata": {},
     "output_type": "execute_result"
    }
   ],
   "source": [
    "import tensorflow as tf\n",
    "from keras.preprocessing.image import ImageDataGenerator\n",
    "tf.__version__"
   ]
  },
  {
   "cell_type": "markdown",
   "metadata": {},
   "source": [
    "**Data Preprocessing**"
   ]
  },
  {
   "cell_type": "markdown",
   "metadata": {},
   "source": [
    "--split folders"
   ]
  },
  {
   "cell_type": "code",
   "execution_count": 2,
   "metadata": {},
   "outputs": [],
   "source": [
    "import splitfolders\n",
    "splitfolders.ratio(\"alphabet letters\", output=\"Alphabet  dataset\", ratio = (.7,.2,.1), group_prefix=None, move = True)"
   ]
  },
  {
   "cell_type": "markdown",
   "metadata": {},
   "source": [
    "--Preprocessing the Training set\n",
    "- Data Augmantation \n",
    "- import data"
   ]
  },
  {
   "cell_type": "code",
   "execution_count": 2,
   "metadata": {},
   "outputs": [
    {
     "name": "stdout",
     "output_type": "stream",
     "text": [
      "Found 3150 images belonging to 3 classes.\n"
     ]
    }
   ],
   "source": [
    "train_datagen = ImageDataGenerator(\n",
    "                                    brightness_range = (0.2, 0.8), \n",
    "                                    rescale = 1./255,\n",
    "                                    zoom_range = [0.5, 1.5],\n",
    "                                    channel_shift_range=150.0,\n",
    "                                    horizontal_flip = True,\n",
    "                                   )\n",
    "training_set = train_datagen.flow_from_directory('alphabet demo dataset\\\\train',\n",
    "                                                 target_size = (64, 64),\n",
    "                                                 batch_size = 32,\n",
    "                                                 class_mode = 'categorical')"
   ]
  },
  {
   "cell_type": "markdown",
   "metadata": {},
   "source": [
    "Preprocessing the Test set\n",
    "- import validaiton data"
   ]
  },
  {
   "cell_type": "code",
   "execution_count": 3,
   "metadata": {},
   "outputs": [
    {
     "name": "stdout",
     "output_type": "stream",
     "text": [
      "Found 900 images belonging to 3 classes.\n"
     ]
    }
   ],
   "source": [
    "\n",
    "val_datagen = ImageDataGenerator(rescale = 1./255)\n",
    "val_set = val_datagen.flow_from_directory('alphabet demo dataset\\\\val',\n",
    "                                            target_size = (64, 64),\n",
    "                                            batch_size = 32,\n",
    "                                            class_mode = 'categorical')"
   ]
  },
  {
   "cell_type": "markdown",
   "metadata": {},
   "source": [
    "**Building the CNN**\n",
    "\n",
    "--Initialising the CNN"
   ]
  },
  {
   "cell_type": "code",
   "execution_count": 4,
   "metadata": {},
   "outputs": [],
   "source": [
    "cnn = tf.keras.models.Sequential()"
   ]
  },
  {
   "cell_type": "markdown",
   "metadata": {},
   "source": [
    "Step 1 - Convolution"
   ]
  },
  {
   "cell_type": "code",
   "execution_count": 5,
   "metadata": {},
   "outputs": [],
   "source": [
    "cnn.add(tf.keras.layers.Conv2D(filters=32, kernel_size=3, activation='relu', input_shape=[64, 64, 3]))"
   ]
  },
  {
   "cell_type": "markdown",
   "metadata": {},
   "source": [
    "Step 2 - Pooling"
   ]
  },
  {
   "cell_type": "code",
   "execution_count": 6,
   "metadata": {},
   "outputs": [],
   "source": [
    "cnn.add(tf.keras.layers.MaxPool2D(pool_size=2, strides=2))"
   ]
  },
  {
   "cell_type": "markdown",
   "metadata": {},
   "source": [
    "Adding a second convolutional layer"
   ]
  },
  {
   "cell_type": "code",
   "execution_count": 7,
   "metadata": {},
   "outputs": [],
   "source": [
    "cnn.add(tf.keras.layers.Conv2D(filters=32, kernel_size=3, activation='relu'))\n",
    "cnn.add(tf.keras.layers.MaxPool2D(pool_size=2, strides=2))"
   ]
  },
  {
   "cell_type": "markdown",
   "metadata": {},
   "source": [
    "Step 3 - Flattening"
   ]
  },
  {
   "cell_type": "code",
   "execution_count": 8,
   "metadata": {},
   "outputs": [],
   "source": [
    "cnn.add(tf.keras.layers.Flatten())"
   ]
  },
  {
   "cell_type": "markdown",
   "metadata": {},
   "source": [
    "Step 4 - Full Connection"
   ]
  },
  {
   "cell_type": "code",
   "execution_count": 9,
   "metadata": {},
   "outputs": [],
   "source": [
    "cnn.add(tf.keras.layers.Dense(units=128, activation='relu'))"
   ]
  },
  {
   "cell_type": "markdown",
   "metadata": {},
   "source": [
    "Step 5 - Output Layer"
   ]
  },
  {
   "cell_type": "code",
   "execution_count": 10,
   "metadata": {},
   "outputs": [],
   "source": [
    "cnn.add(tf.keras.layers.Dense(units=3, activation='softmax'))"
   ]
  },
  {
   "cell_type": "markdown",
   "metadata": {},
   "source": [
    "**Training the CNN**\n",
    "\n",
    "--Compiling the CNN"
   ]
  },
  {
   "cell_type": "code",
   "execution_count": 11,
   "metadata": {},
   "outputs": [],
   "source": [
    "cnn.compile(optimizer = 'adam', loss = 'categorical_crossentropy', metrics = ['accuracy'])"
   ]
  },
  {
   "cell_type": "markdown",
   "metadata": {},
   "source": [
    "Training the CNN on the Training set and evaluating it on the Test set"
   ]
  },
  {
   "cell_type": "code",
   "execution_count": 12,
   "metadata": {},
   "outputs": [
    {
     "name": "stdout",
     "output_type": "stream",
     "text": [
      "Epoch 1/20\n",
      "99/99 [==============================] - 20s 193ms/step - loss: 1.0737 - accuracy: 0.3854 - val_loss: 1.0720 - val_accuracy: 0.4600\n",
      "Epoch 2/20\n",
      "99/99 [==============================] - 19s 191ms/step - loss: 0.9747 - accuracy: 0.5079 - val_loss: 0.7252 - val_accuracy: 0.7033\n",
      "Epoch 3/20\n",
      "99/99 [==============================] - 21s 214ms/step - loss: 0.8872 - accuracy: 0.5794 - val_loss: 0.6548 - val_accuracy: 0.7511\n",
      "Epoch 4/20\n",
      "99/99 [==============================] - 26s 261ms/step - loss: 0.8335 - accuracy: 0.6162 - val_loss: 0.6719 - val_accuracy: 0.7467\n",
      "Epoch 5/20\n",
      "99/99 [==============================] - 20s 197ms/step - loss: 0.7791 - accuracy: 0.6419 - val_loss: 0.5007 - val_accuracy: 0.8200\n",
      "Epoch 6/20\n",
      "99/99 [==============================] - 16s 166ms/step - loss: 0.7353 - accuracy: 0.6638 - val_loss: 0.4047 - val_accuracy: 0.8567\n",
      "Epoch 7/20\n",
      "99/99 [==============================] - 14s 143ms/step - loss: 0.7168 - accuracy: 0.6848 - val_loss: 0.3786 - val_accuracy: 0.8800\n",
      "Epoch 8/20\n",
      "99/99 [==============================] - 14s 141ms/step - loss: 0.6838 - accuracy: 0.7048 - val_loss: 0.2685 - val_accuracy: 0.8978\n",
      "Epoch 9/20\n",
      "99/99 [==============================] - 14s 143ms/step - loss: 0.6438 - accuracy: 0.7225 - val_loss: 0.3677 - val_accuracy: 0.8711\n",
      "Epoch 10/20\n",
      "99/99 [==============================] - 18s 187ms/step - loss: 0.6249 - accuracy: 0.7384 - val_loss: 0.2264 - val_accuracy: 0.9289\n",
      "Epoch 11/20\n",
      "99/99 [==============================] - 17s 168ms/step - loss: 0.5838 - accuracy: 0.7444 - val_loss: 0.2879 - val_accuracy: 0.9067\n",
      "Epoch 12/20\n",
      "99/99 [==============================] - 15s 148ms/step - loss: 0.5488 - accuracy: 0.7676 - val_loss: 0.2130 - val_accuracy: 0.9344\n",
      "Epoch 13/20\n",
      "99/99 [==============================] - 15s 150ms/step - loss: 0.5337 - accuracy: 0.7683 - val_loss: 0.1744 - val_accuracy: 0.9444\n",
      "Epoch 14/20\n",
      "99/99 [==============================] - 15s 147ms/step - loss: 0.5410 - accuracy: 0.7673 - val_loss: 0.3224 - val_accuracy: 0.9044\n",
      "Epoch 15/20\n",
      "99/99 [==============================] - 15s 147ms/step - loss: 0.4807 - accuracy: 0.8035 - val_loss: 0.1231 - val_accuracy: 0.9633\n",
      "Epoch 16/20\n",
      "99/99 [==============================] - 15s 153ms/step - loss: 0.4787 - accuracy: 0.7984 - val_loss: 0.1290 - val_accuracy: 0.9633\n",
      "Epoch 17/20\n",
      "99/99 [==============================] - 15s 150ms/step - loss: 0.4539 - accuracy: 0.8159 - val_loss: 0.1395 - val_accuracy: 0.9633\n",
      "Epoch 18/20\n",
      "99/99 [==============================] - 14s 146ms/step - loss: 0.4199 - accuracy: 0.8260 - val_loss: 0.0917 - val_accuracy: 0.9733\n",
      "Epoch 19/20\n",
      "99/99 [==============================] - 15s 150ms/step - loss: 0.4214 - accuracy: 0.8286 - val_loss: 0.1365 - val_accuracy: 0.9633\n",
      "Epoch 20/20\n",
      "99/99 [==============================] - 14s 145ms/step - loss: 0.4217 - accuracy: 0.8283 - val_loss: 0.0796 - val_accuracy: 0.9789\n"
     ]
    },
    {
     "data": {
      "text/plain": [
       "<keras.callbacks.History at 0x197a7953c70>"
      ]
     },
     "execution_count": 12,
     "metadata": {},
     "output_type": "execute_result"
    }
   ],
   "source": [
    "cnn.fit(x = training_set, validation_data = val_set, epochs = 20)"
   ]
  },
  {
   "cell_type": "markdown",
   "metadata": {},
   "source": [
    "Part 4 - Making a single prediction"
   ]
  },
  {
   "cell_type": "code",
   "execution_count": 13,
   "metadata": {},
   "outputs": [
    {
     "data": {
      "text/plain": [
       "{'a': 0, 'b': 1, 'c': 2}"
      ]
     },
     "execution_count": 13,
     "metadata": {},
     "output_type": "execute_result"
    }
   ],
   "source": [
    "training_set.class_indices"
   ]
  },
  {
   "cell_type": "code",
   "execution_count": 14,
   "metadata": {},
   "outputs": [
    {
     "name": "stdout",
     "output_type": "stream",
     "text": [
      "1/1 [==============================] - 0s 105ms/step\n",
      "[[0. 1. 0.]]\n"
     ]
    }
   ],
   "source": [
    "import numpy as np\n",
    "from keras.preprocessing import image\n",
    "test_image = tf.keras.utils.load_img('Alphabet  dataset\\\\test\\\\b\\\\b_4.jpg', target_size = (64, 64))\n",
    "test_image = tf.keras.utils.img_to_array(test_image)\n",
    "test_image = np.expand_dims(test_image, axis = 0)\n",
    "result = cnn.predict(test_image)\n",
    "print(result)"
   ]
  },
  {
   "cell_type": "markdown",
   "metadata": {},
   "source": [
    "**Create model file**"
   ]
  },
  {
   "cell_type": "code",
   "execution_count": 16,
   "metadata": {},
   "outputs": [],
   "source": [
    "cnn.save('demo_cnn_model.h5')"
   ]
  },
  {
   "cell_type": "markdown",
   "metadata": {},
   "source": [
    "--load and sum the model"
   ]
  },
  {
   "cell_type": "code",
   "execution_count": 17,
   "metadata": {},
   "outputs": [],
   "source": [
    "model = tf.keras.models.load_model('demo_cnn_model.h5')"
   ]
  },
  {
   "cell_type": "code",
   "execution_count": 18,
   "metadata": {},
   "outputs": [
    {
     "name": "stdout",
     "output_type": "stream",
     "text": [
      "Model: \"sequential\"\n",
      "_________________________________________________________________\n",
      " Layer (type)                Output Shape              Param #   \n",
      "=================================================================\n",
      " conv2d (Conv2D)             (None, 62, 62, 32)        896       \n",
      "                                                                 \n",
      " max_pooling2d (MaxPooling2D  (None, 31, 31, 32)       0         \n",
      " )                                                               \n",
      "                                                                 \n",
      " conv2d_1 (Conv2D)           (None, 29, 29, 32)        9248      \n",
      "                                                                 \n",
      " max_pooling2d_1 (MaxPooling  (None, 14, 14, 32)       0         \n",
      " 2D)                                                             \n",
      "                                                                 \n",
      " flatten (Flatten)           (None, 6272)              0         \n",
      "                                                                 \n",
      " dense (Dense)               (None, 128)               802944    \n",
      "                                                                 \n",
      " dense_1 (Dense)             (None, 3)                 387       \n",
      "                                                                 \n",
      "=================================================================\n",
      "Total params: 813,475\n",
      "Trainable params: 813,475\n",
      "Non-trainable params: 0\n",
      "_________________________________________________________________\n"
     ]
    }
   ],
   "source": [
    "model.summary()"
   ]
  },
  {
   "cell_type": "markdown",
   "metadata": {},
   "source": [
    "**One image tests**\n"
   ]
  },
  {
   "cell_type": "markdown",
   "metadata": {},
   "source": [
    "predict"
   ]
  },
  {
   "cell_type": "code",
   "execution_count": 19,
   "metadata": {},
   "outputs": [
    {
     "name": "stdout",
     "output_type": "stream",
     "text": [
      "[[[[121. 121. 121.]\n",
      "   [114. 114. 114.]\n",
      "   [154. 154. 154.]\n",
      "   ...\n",
      "   [247. 247. 247.]\n",
      "   [246. 246. 246.]\n",
      "   [244. 244. 244.]]\n",
      "\n",
      "  [[156. 156. 156.]\n",
      "   [114. 114. 114.]\n",
      "   [ 78.  78.  78.]\n",
      "   ...\n",
      "   [252. 252. 252.]\n",
      "   [251. 251. 251.]\n",
      "   [250. 250. 250.]]\n",
      "\n",
      "  [[151. 151. 151.]\n",
      "   [165. 165. 165.]\n",
      "   [163. 163. 163.]\n",
      "   ...\n",
      "   [253. 253. 253.]\n",
      "   [252. 252. 252.]\n",
      "   [251. 251. 251.]]\n",
      "\n",
      "  ...\n",
      "\n",
      "  [[  2.   2.   2.]\n",
      "   [  2.   2.   2.]\n",
      "   [  2.   2.   2.]\n",
      "   ...\n",
      "   [ 37.  37.  37.]\n",
      "   [ 32.  32.  32.]\n",
      "   [ 29.  29.  29.]]\n",
      "\n",
      "  [[  2.   2.   2.]\n",
      "   [  2.   2.   2.]\n",
      "   [  2.   2.   2.]\n",
      "   ...\n",
      "   [ 38.  38.  38.]\n",
      "   [ 36.  36.  36.]\n",
      "   [ 34.  34.  34.]]\n",
      "\n",
      "  [[  2.   2.   2.]\n",
      "   [  2.   2.   2.]\n",
      "   [  2.   2.   2.]\n",
      "   ...\n",
      "   [ 27.  27.  27.]\n",
      "   [ 28.  28.  28.]\n",
      "   [ 29.  29.  29.]]]]\n",
      "1/1 [==============================] - 0s 107ms/step\n",
      "[[0. 1. 0.]]\n"
     ]
    }
   ],
   "source": [
    "\n",
    "import numpy as np\n",
    "test_image = tf.keras.utils.load_img('Alphabet  dataset\\\\test\\\\b\\\\b_4.jpg', target_size = (64, 64))\n",
    "test_image = tf.keras.utils.img_to_array(test_image)\n",
    "test_image = np.expand_dims(test_image, axis = 0)\n",
    "print(test_image)\n",
    "result = model.predict(test_image)\n",
    "print(result)"
   ]
  },
  {
   "cell_type": "markdown",
   "metadata": {},
   "source": [
    "final result"
   ]
  },
  {
   "cell_type": "code",
   "execution_count": 20,
   "metadata": {},
   "outputs": [
    {
     "name": "stdout",
     "output_type": "stream",
     "text": [
      "1.0\n",
      "1\n",
      "b\n"
     ]
    }
   ],
   "source": [
    "letter_position = 0\n",
    "for i in result[0]:   \n",
    "    if i != 0:\n",
    "        print(i)\n",
    "        position = list(training_set.class_indices.values()).index(letter_position)\n",
    "        print(position)\n",
    "        print(list(training_set.class_indices.keys())[position])\n",
    "    letter_position += 1"
   ]
  }
 ],
 "metadata": {
  "kernelspec": {
   "display_name": "Python 3.10.4 64-bit",
   "language": "python",
   "name": "python3"
  },
  "language_info": {
   "codemirror_mode": {
    "name": "ipython",
    "version": 3
   },
   "file_extension": ".py",
   "mimetype": "text/x-python",
   "name": "python",
   "nbconvert_exporter": "python",
   "pygments_lexer": "ipython3",
   "version": "3.10.4"
  },
  "orig_nbformat": 4,
  "vscode": {
   "interpreter": {
    "hash": "3961a683be2637081150b3323a1225d706416773ad5116bde7aa2d0d0168d72d"
   }
  }
 },
 "nbformat": 4,
 "nbformat_minor": 2
}
