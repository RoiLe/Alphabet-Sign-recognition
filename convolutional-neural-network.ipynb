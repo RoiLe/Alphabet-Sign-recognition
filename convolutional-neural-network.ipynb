{
 "cells": [
  {
   "cell_type": "markdown",
   "metadata": {},
   "source": [
    "**Importing the libraries**"
   ]
  },
  {
   "cell_type": "code",
   "execution_count": 1,
   "metadata": {},
   "outputs": [
    {
     "data": {
      "text/plain": [
       "'2.9.1'"
      ]
     },
     "execution_count": 1,
     "metadata": {},
     "output_type": "execute_result"
    }
   ],
   "source": [
    "import tensorflow as tf\n",
    "from keras.preprocessing.image import ImageDataGenerator\n",
    "tf.__version__"
   ]
  },
  {
   "cell_type": "markdown",
   "metadata": {},
   "source": [
    "**Data Preprocessing**"
   ]
  },
  {
   "cell_type": "markdown",
   "metadata": {},
   "source": [
    "--split folders"
   ]
  },
  {
   "cell_type": "code",
   "execution_count": 2,
   "metadata": {},
   "outputs": [],
   "source": [
    "import splitfolders\n",
    "splitfolders.ratio(\"alphabet letters\", output=\"Alphabet  dataset\", ratio = (.7,.2,.1), group_prefix=None, move = True)"
   ]
  },
  {
   "cell_type": "markdown",
   "metadata": {},
   "source": [
    "--Preprocessing the Training set\n",
    "- Data Augmantation \n",
    "- import data"
   ]
  },
  {
   "cell_type": "code",
   "execution_count": 2,
   "metadata": {},
   "outputs": [
    {
     "name": "stdout",
     "output_type": "stream",
     "text": [
      "Found 26250 images belonging to 25 classes.\n"
     ]
    }
   ],
   "source": [
    "train_datagen = ImageDataGenerator(\n",
    "                                    #width_shift_range = 0.3,\n",
    "                                    #height_shift_range = 0.3,\n",
    "                                    brightness_range = (0.2, 1.4), \n",
    "                                    rescale = 1./255,\n",
    "                                    zoom_range = [0.5, 1.5],\n",
    "                                    channel_shift_range=150.0,\n",
    "                                    horizontal_flip = True\n",
    "                                   )\n",
    "training_set = train_datagen.flow_from_directory('alphabet demo dataset\\\\train',\n",
    "                                                 target_size = (64, 64),\n",
    "                                                 batch_size = 32,\n",
    "                                                 class_mode = 'categorical')\n",
    "\n"
   ]
  },
  {
   "cell_type": "markdown",
   "metadata": {},
   "source": [
    "Preprocessing the Test set\n",
    "- import validaiton data"
   ]
  },
  {
   "cell_type": "code",
   "execution_count": 3,
   "metadata": {},
   "outputs": [
    {
     "name": "stdout",
     "output_type": "stream",
     "text": [
      "Found 7500 images belonging to 25 classes.\n"
     ]
    }
   ],
   "source": [
    "\n",
    "val_datagen = ImageDataGenerator(rescale = 1./255)\n",
    "val_set = val_datagen.flow_from_directory('alphabet demo dataset\\\\val',\n",
    "                                            target_size = (64, 64),\n",
    "                                            batch_size = 32,\n",
    "                                            class_mode = 'categorical')"
   ]
  },
  {
   "cell_type": "markdown",
   "metadata": {},
   "source": [
    "**Building the CNN**\n",
    "\n",
    "--Initialising the CNN"
   ]
  },
  {
   "cell_type": "code",
   "execution_count": 4,
   "metadata": {},
   "outputs": [],
   "source": [
    "cnn = tf.keras.models.Sequential()"
   ]
  },
  {
   "cell_type": "markdown",
   "metadata": {},
   "source": [
    "Step 1 - Convolution"
   ]
  },
  {
   "cell_type": "code",
   "execution_count": 5,
   "metadata": {},
   "outputs": [],
   "source": [
    "cnn.add(tf.keras.layers.Conv2D(filters=32, kernel_size=3, activation='relu', input_shape=[64, 64, 3]))"
   ]
  },
  {
   "cell_type": "markdown",
   "metadata": {},
   "source": [
    "Step 2 - Pooling"
   ]
  },
  {
   "cell_type": "code",
   "execution_count": 6,
   "metadata": {},
   "outputs": [],
   "source": [
    "cnn.add(tf.keras.layers.MaxPool2D(pool_size=2, strides=2))"
   ]
  },
  {
   "cell_type": "markdown",
   "metadata": {},
   "source": [
    "Adding a second convolutional layer"
   ]
  },
  {
   "cell_type": "code",
   "execution_count": 7,
   "metadata": {},
   "outputs": [],
   "source": [
    "cnn.add(tf.keras.layers.Conv2D(filters=32, kernel_size=3, activation='relu'))\n",
    "cnn.add(tf.keras.layers.MaxPool2D(pool_size=2, strides=2))"
   ]
  },
  {
   "cell_type": "markdown",
   "metadata": {},
   "source": [
    "Step 3 - Flattening"
   ]
  },
  {
   "cell_type": "code",
   "execution_count": 8,
   "metadata": {},
   "outputs": [],
   "source": [
    "cnn.add(tf.keras.layers.Flatten())"
   ]
  },
  {
   "cell_type": "markdown",
   "metadata": {},
   "source": [
    "Step 4 - Full Connection"
   ]
  },
  {
   "cell_type": "code",
   "execution_count": 9,
   "metadata": {},
   "outputs": [],
   "source": [
    "cnn.add(tf.keras.layers.Dense(units=128, activation='relu'))"
   ]
  },
  {
   "cell_type": "markdown",
   "metadata": {},
   "source": [
    "Step 5 - Output Layer"
   ]
  },
  {
   "cell_type": "code",
   "execution_count": 10,
   "metadata": {},
   "outputs": [],
   "source": [
    "cnn.add(tf.keras.layers.Dense(units=25, activation='softmax'))"
   ]
  },
  {
   "cell_type": "markdown",
   "metadata": {},
   "source": [
    "**Training the CNN**\n",
    "\n",
    "--Compiling the CNN"
   ]
  },
  {
   "cell_type": "code",
   "execution_count": 11,
   "metadata": {},
   "outputs": [],
   "source": [
    "cnn.compile(optimizer = 'adam', loss = 'categorical_crossentropy', metrics = ['accuracy'])"
   ]
  },
  {
   "cell_type": "markdown",
   "metadata": {},
   "source": [
    "Training the CNN on the Training set and evaluating it on the Test set"
   ]
  },
  {
   "cell_type": "code",
   "execution_count": 12,
   "metadata": {},
   "outputs": [
    {
     "name": "stdout",
     "output_type": "stream",
     "text": [
      "Epoch 1/30\n",
      "821/821 [==============================] - 287s 341ms/step - loss: 2.5379 - accuracy: 0.2740 - val_loss: 1.4250 - val_accuracy: 0.5817\n",
      "Epoch 2/30\n",
      "821/821 [==============================] - 251s 306ms/step - loss: 1.8801 - accuracy: 0.4531 - val_loss: 0.9554 - val_accuracy: 0.7167\n",
      "Epoch 3/30\n",
      "821/821 [==============================] - 203s 247ms/step - loss: 1.6230 - accuracy: 0.5265 - val_loss: 0.7503 - val_accuracy: 0.7685\n",
      "Epoch 4/30\n",
      "821/821 [==============================] - 217s 265ms/step - loss: 1.4354 - accuracy: 0.5763 - val_loss: 0.6823 - val_accuracy: 0.7904\n",
      "Epoch 5/30\n",
      "821/821 [==============================] - 199s 243ms/step - loss: 1.3516 - accuracy: 0.6017 - val_loss: 0.5886 - val_accuracy: 0.8183\n",
      "Epoch 6/30\n",
      "821/821 [==============================] - 204s 248ms/step - loss: 1.2584 - accuracy: 0.6275 - val_loss: 0.5440 - val_accuracy: 0.8333\n",
      "Epoch 7/30\n",
      "821/821 [==============================] - 199s 242ms/step - loss: 1.1986 - accuracy: 0.6462 - val_loss: 0.5151 - val_accuracy: 0.8356\n",
      "Epoch 8/30\n",
      "821/821 [==============================] - 194s 237ms/step - loss: 1.1430 - accuracy: 0.6651 - val_loss: 0.4855 - val_accuracy: 0.8479\n",
      "Epoch 9/30\n",
      "821/821 [==============================] - 213s 260ms/step - loss: 1.0764 - accuracy: 0.6832 - val_loss: 0.4179 - val_accuracy: 0.8677\n",
      "Epoch 10/30\n",
      "821/821 [==============================] - 199s 243ms/step - loss: 1.0496 - accuracy: 0.6870 - val_loss: 0.4149 - val_accuracy: 0.8705\n",
      "Epoch 11/30\n",
      "821/821 [==============================] - 196s 239ms/step - loss: 1.0169 - accuracy: 0.7000 - val_loss: 0.4042 - val_accuracy: 0.8764\n",
      "Epoch 12/30\n",
      "821/821 [==============================] - 174s 212ms/step - loss: 0.9836 - accuracy: 0.7070 - val_loss: 0.3862 - val_accuracy: 0.8821\n",
      "Epoch 13/30\n",
      "821/821 [==============================] - 151s 184ms/step - loss: 0.9477 - accuracy: 0.7179 - val_loss: 0.3448 - val_accuracy: 0.8957\n",
      "Epoch 14/30\n",
      "821/821 [==============================] - 169s 206ms/step - loss: 0.9279 - accuracy: 0.7225 - val_loss: 0.4015 - val_accuracy: 0.8768\n",
      "Epoch 15/30\n",
      "821/821 [==============================] - 160s 195ms/step - loss: 0.9025 - accuracy: 0.7304 - val_loss: 0.3352 - val_accuracy: 0.8964\n",
      "Epoch 16/30\n",
      "821/821 [==============================] - 172s 209ms/step - loss: 0.8919 - accuracy: 0.7320 - val_loss: 0.3430 - val_accuracy: 0.8968\n",
      "Epoch 17/30\n",
      "821/821 [==============================] - 175s 213ms/step - loss: 0.8744 - accuracy: 0.7371 - val_loss: 0.3442 - val_accuracy: 0.9031\n",
      "Epoch 18/30\n",
      "821/821 [==============================] - 153s 187ms/step - loss: 0.8603 - accuracy: 0.7448 - val_loss: 0.3147 - val_accuracy: 0.9035\n",
      "Epoch 19/30\n",
      "821/821 [==============================] - 155s 188ms/step - loss: 0.8425 - accuracy: 0.7488 - val_loss: 0.3072 - val_accuracy: 0.9015\n",
      "Epoch 20/30\n",
      "821/821 [==============================] - 155s 189ms/step - loss: 0.8189 - accuracy: 0.7548 - val_loss: 0.3177 - val_accuracy: 0.9005\n",
      "Epoch 21/30\n",
      "821/821 [==============================] - 148s 181ms/step - loss: 0.8163 - accuracy: 0.7555 - val_loss: 0.3109 - val_accuracy: 0.9080\n",
      "Epoch 22/30\n",
      "821/821 [==============================] - 122s 148ms/step - loss: 0.8048 - accuracy: 0.7586 - val_loss: 0.2922 - val_accuracy: 0.9120\n",
      "Epoch 23/30\n",
      "821/821 [==============================] - 122s 149ms/step - loss: 0.7969 - accuracy: 0.7608 - val_loss: 0.2899 - val_accuracy: 0.9076\n",
      "Epoch 24/30\n",
      "821/821 [==============================] - 130s 158ms/step - loss: 0.7704 - accuracy: 0.7664 - val_loss: 0.2938 - val_accuracy: 0.9080\n",
      "Epoch 25/30\n",
      "821/821 [==============================] - 126s 154ms/step - loss: 0.7822 - accuracy: 0.7655 - val_loss: 0.2670 - val_accuracy: 0.9193\n",
      "Epoch 26/30\n",
      "821/821 [==============================] - 130s 158ms/step - loss: 0.7548 - accuracy: 0.7716 - val_loss: 0.2793 - val_accuracy: 0.9125\n",
      "Epoch 27/30\n",
      "821/821 [==============================] - 130s 158ms/step - loss: 0.7511 - accuracy: 0.7752 - val_loss: 0.2580 - val_accuracy: 0.9212\n",
      "Epoch 28/30\n",
      "821/821 [==============================] - 133s 162ms/step - loss: 0.7259 - accuracy: 0.7809 - val_loss: 0.2851 - val_accuracy: 0.9144\n",
      "Epoch 29/30\n",
      "821/821 [==============================] - 165s 201ms/step - loss: 0.7378 - accuracy: 0.7757 - val_loss: 0.2555 - val_accuracy: 0.9172\n",
      "Epoch 30/30\n",
      "821/821 [==============================] - 176s 214ms/step - loss: 0.7266 - accuracy: 0.7834 - val_loss: 0.2436 - val_accuracy: 0.9269\n"
     ]
    },
    {
     "data": {
      "text/plain": [
       "<keras.callbacks.History at 0x2462b5b44c0>"
      ]
     },
     "execution_count": 12,
     "metadata": {},
     "output_type": "execute_result"
    }
   ],
   "source": [
    "cnn.fit(x = training_set, validation_data = val_set, epochs = 30)"
   ]
  },
  {
   "cell_type": "markdown",
   "metadata": {},
   "source": [
    "Part 4 - Making a single prediction"
   ]
  },
  {
   "cell_type": "code",
   "execution_count": 13,
   "metadata": {},
   "outputs": [
    {
     "data": {
      "text/plain": [
       "{'a': 0,\n",
       " 'b': 1,\n",
       " 'c': 2,\n",
       " 'd': 3,\n",
       " 'f': 4,\n",
       " 'g': 5,\n",
       " 'h': 6,\n",
       " 'i': 7,\n",
       " 'j': 8,\n",
       " 'k': 9,\n",
       " 'l': 10,\n",
       " 'm': 11,\n",
       " 'n': 12,\n",
       " 'o': 13,\n",
       " 'p': 14,\n",
       " 'q': 15,\n",
       " 'r': 16,\n",
       " 's': 17,\n",
       " 't': 18,\n",
       " 'u': 19,\n",
       " 'v': 20,\n",
       " 'w': 21,\n",
       " 'x': 22,\n",
       " 'y': 23,\n",
       " 'z': 24}"
      ]
     },
     "execution_count": 13,
     "metadata": {},
     "output_type": "execute_result"
    }
   ],
   "source": [
    "training_set.class_indices"
   ]
  },
  {
   "cell_type": "code",
   "execution_count": 14,
   "metadata": {},
   "outputs": [
    {
     "name": "stdout",
     "output_type": "stream",
     "text": [
      "1/1 [==============================] - 5s 5s/step\n",
      "[[0. 1. 0. 0. 0. 0. 0. 0. 0. 0. 0. 0. 0. 0. 0. 0. 0. 0. 0. 0. 0. 0. 0. 0.\n",
      "  0.]]\n"
     ]
    }
   ],
   "source": [
    "import numpy as np\n",
    "from keras.preprocessing import image\n",
    "test_image = tf.keras.utils.load_img('Alphabet  dataset\\\\test\\\\b\\\\b_4.jpg', target_size = (64, 64))\n",
    "test_image = tf.keras.utils.img_to_array(test_image)\n",
    "test_image = np.expand_dims(test_image, axis = 0)\n",
    "result = cnn.predict(test_image)\n",
    "print(result)"
   ]
  },
  {
   "cell_type": "markdown",
   "metadata": {},
   "source": [
    "**Create model file**"
   ]
  },
  {
   "cell_type": "code",
   "execution_count": 15,
   "metadata": {},
   "outputs": [],
   "source": [
    "cnn.save('demo_cnn_model_version_3.h5')"
   ]
  },
  {
   "cell_type": "markdown",
   "metadata": {},
   "source": [
    "--load and sum the model"
   ]
  },
  {
   "cell_type": "code",
   "execution_count": 16,
   "metadata": {},
   "outputs": [],
   "source": [
    "model = tf.keras.models.load_model('demo_cnn_model_version_3.h5')"
   ]
  },
  {
   "cell_type": "code",
   "execution_count": 17,
   "metadata": {},
   "outputs": [
    {
     "name": "stdout",
     "output_type": "stream",
     "text": [
      "Model: \"sequential\"\n",
      "_________________________________________________________________\n",
      " Layer (type)                Output Shape              Param #   \n",
      "=================================================================\n",
      " conv2d (Conv2D)             (None, 62, 62, 32)        896       \n",
      "                                                                 \n",
      " max_pooling2d (MaxPooling2D  (None, 31, 31, 32)       0         \n",
      " )                                                               \n",
      "                                                                 \n",
      " conv2d_1 (Conv2D)           (None, 29, 29, 32)        9248      \n",
      "                                                                 \n",
      " max_pooling2d_1 (MaxPooling  (None, 14, 14, 32)       0         \n",
      " 2D)                                                             \n",
      "                                                                 \n",
      " flatten (Flatten)           (None, 6272)              0         \n",
      "                                                                 \n",
      " dense (Dense)               (None, 128)               802944    \n",
      "                                                                 \n",
      " dense_1 (Dense)             (None, 25)                3225      \n",
      "                                                                 \n",
      "=================================================================\n",
      "Total params: 816,313\n",
      "Trainable params: 816,313\n",
      "Non-trainable params: 0\n",
      "_________________________________________________________________\n"
     ]
    }
   ],
   "source": [
    "model.summary()"
   ]
  },
  {
   "cell_type": "markdown",
   "metadata": {},
   "source": [
    "**One image tests**\n"
   ]
  },
  {
   "cell_type": "markdown",
   "metadata": {},
   "source": [
    "predict"
   ]
  },
  {
   "cell_type": "code",
   "execution_count": 18,
   "metadata": {},
   "outputs": [
    {
     "name": "stdout",
     "output_type": "stream",
     "text": [
      "[[[[121. 121. 121.]\n",
      "   [114. 114. 114.]\n",
      "   [154. 154. 154.]\n",
      "   ...\n",
      "   [247. 247. 247.]\n",
      "   [246. 246. 246.]\n",
      "   [244. 244. 244.]]\n",
      "\n",
      "  [[156. 156. 156.]\n",
      "   [114. 114. 114.]\n",
      "   [ 78.  78.  78.]\n",
      "   ...\n",
      "   [252. 252. 252.]\n",
      "   [251. 251. 251.]\n",
      "   [250. 250. 250.]]\n",
      "\n",
      "  [[151. 151. 151.]\n",
      "   [165. 165. 165.]\n",
      "   [163. 163. 163.]\n",
      "   ...\n",
      "   [253. 253. 253.]\n",
      "   [252. 252. 252.]\n",
      "   [251. 251. 251.]]\n",
      "\n",
      "  ...\n",
      "\n",
      "  [[  2.   2.   2.]\n",
      "   [  2.   2.   2.]\n",
      "   [  2.   2.   2.]\n",
      "   ...\n",
      "   [ 37.  37.  37.]\n",
      "   [ 32.  32.  32.]\n",
      "   [ 29.  29.  29.]]\n",
      "\n",
      "  [[  2.   2.   2.]\n",
      "   [  2.   2.   2.]\n",
      "   [  2.   2.   2.]\n",
      "   ...\n",
      "   [ 38.  38.  38.]\n",
      "   [ 36.  36.  36.]\n",
      "   [ 34.  34.  34.]]\n",
      "\n",
      "  [[  2.   2.   2.]\n",
      "   [  2.   2.   2.]\n",
      "   [  2.   2.   2.]\n",
      "   ...\n",
      "   [ 27.  27.  27.]\n",
      "   [ 28.  28.  28.]\n",
      "   [ 29.  29.  29.]]]]\n",
      "1/1 [==============================] - 1s 561ms/step\n",
      "[[0. 1. 0. 0. 0. 0. 0. 0. 0. 0. 0. 0. 0. 0. 0. 0. 0. 0. 0. 0. 0. 0. 0. 0.\n",
      "  0.]]\n"
     ]
    }
   ],
   "source": [
    "\n",
    "import numpy as np\n",
    "test_image = tf.keras.utils.load_img('Alphabet  dataset\\\\test\\\\b\\\\b_4.jpg', target_size = (64, 64))\n",
    "test_image = tf.keras.utils.img_to_array(test_image)\n",
    "test_image = np.expand_dims(test_image, axis = 0)\n",
    "print(test_image)\n",
    "result = model.predict(test_image)\n",
    "print(result)\n"
   ]
  },
  {
   "cell_type": "markdown",
   "metadata": {},
   "source": [
    "final result"
   ]
  },
  {
   "cell_type": "code",
   "execution_count": 19,
   "metadata": {},
   "outputs": [
    {
     "name": "stdout",
     "output_type": "stream",
     "text": [
      "1.0\n",
      "1\n",
      "b\n"
     ]
    }
   ],
   "source": [
    "letter_position = 0\n",
    "for i in result[0]:   \n",
    "    if i != 0:\n",
    "        print(i)\n",
    "        position = list(training_set.class_indices.values()).index(letter_position)\n",
    "        print(position)\n",
    "        print(list(training_set.class_indices.keys())[position])\n",
    "    letter_position += 1"
   ]
  }
 ],
 "metadata": {
  "kernelspec": {
   "display_name": "Python 3.10.4 64-bit",
   "language": "python",
   "name": "python3"
  },
  "language_info": {
   "codemirror_mode": {
    "name": "ipython",
    "version": 3
   },
   "file_extension": ".py",
   "mimetype": "text/x-python",
   "name": "python",
   "nbconvert_exporter": "python",
   "pygments_lexer": "ipython3",
   "version": "3.10.4"
  },
  "orig_nbformat": 4,
  "vscode": {
   "interpreter": {
    "hash": "3961a683be2637081150b3323a1225d706416773ad5116bde7aa2d0d0168d72d"
   }
  }
 },
 "nbformat": 4,
 "nbformat_minor": 2
}
